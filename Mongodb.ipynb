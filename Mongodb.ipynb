{
 "cells": [
  {
   "cell_type": "code",
   "execution_count": null,
   "id": "d2e4f22d-45a9-497d-8c8c-e07cf4be7fd8",
   "metadata": {},
   "outputs": [],
   "source": [
    "Q1. What is MongoDB? Explain non-relational databases in short. In which scenarios it is preferred to use\n",
    "MongoDB over SQL databases?"
   ]
  },
  {
   "cell_type": "code",
   "execution_count": null,
   "id": "3a4c3dcc-f88c-42d5-bb83-66327f0a879e",
   "metadata": {},
   "outputs": [],
   "source": [
    "MongoDB is a cross-platform, document-oriented NoSQL database program. NoSQL (Not Only SQL) databases are non-relational databases that do not use the traditional SQL relational database management systems (RDBMS) to store and query data. Instead, NoSQL databases use a non-tabular data model, emphasizing scalability, high availability, and performance.\n",
    "\n",
    "Non-relational databases are designed to handle large amounts of unstructured or semi-structured data that can be stored and processed quickly and efficiently. They do not follow the tabular model of traditional RDBMS and can handle data that is not easily organizable into rows and columns.\n",
    "\n",
    "MongoDB is preferred over SQL databases in scenarios where we need to store and process huge volumes of data that is not well-structured, such as social media data, sensor data, or product catalogs. MongoDB can scale horizontally across distributed server clusters and provides automatic sharding, enabling it to handle larger datasets than traditional RDBMS.\n",
    "\n",
    "MongoDB is also well-suited for use with agile development methodologies. Its schema-less nature allows developers to make changes to the data model quickly and easily without requiring a database administrator to make schema changes. This makes it highly flexible and scalable for web applications and microservices architectures.\n",
    "\n",
    "Furthermore, MongoDB supports replication and high availability, enabling it to provide continuous uptime and fault tolerance for mission-critical applications.\n",
    "\n",
    "In summary, MongoDB is preferred over SQL databases in scenarios where we need to\n",
    "\n",
    "- Store and process large volumes of unstructured and semi-structured data,\n",
    "- Handle fast-changing data models for agile development,\n",
    "- Scale horizontally across distributed server clusters,\n",
    "- Provide high availability and fault tolerance for mission-critical applications."
   ]
  },
  {
   "cell_type": "code",
   "execution_count": null,
   "id": "17639fb0-6320-494b-99c6-83522049938a",
   "metadata": {},
   "outputs": [],
   "source": [
    "Q2. State and Explain the features of MongoDB."
   ]
  },
  {
   "cell_type": "code",
   "execution_count": null,
   "id": "1f3186a9-2960-4306-8a9e-25993504a2d6",
   "metadata": {},
   "outputs": [],
   "source": [
    "MongoDB is a flexible, scalable, document-oriented NoSQL database management system that is designed to handle unstructured and semi-structured data. Some of the key features of MongoDB include:\n",
    "\n",
    "1. Document-oriented: MongoDB is a document-oriented database, which means that the data is stored in collections of documents rather than tables with rows and columns. Each document is stored in BSON (Binary JSON) format, which is a binary representation of JSON data.\n",
    "\n",
    "2. Schemaless: MongoDB is a schema-less database, which means that there is no rigid schema that defines the structure of the data. This allows developers to add, modify, or delete fields in documents without having to make changes to the database schema.\n",
    "\n",
    "3. High Scalability: MongoDB is built to scale both horizontally and vertically, which means that it can handle large volumes of data and increasing numbers of users. MongoDB supports automatic sharding, which allows data to be distributed across multiple servers, making it horizontally scalable.\n",
    "\n",
    "4. High Availability: MongoDB provides high availability through replication. Each replica set consists of multiple copies of the data distributed across multiple servers. In case one server fails, another server acts as the primary server to continue serving requests.\n",
    "\n",
    "5. Rich Query Language: MongoDB supports a rich query language that supports complex queries, including nested documents, logical operators, regular expressions, and more.\n",
    "\n",
    "6. Indexing: MongoDB includes built-in indexing, which makes it easy to search for data within collections. Developers can use a variety of indexing techniques to speed up search times, including text search, geospatial indexes, and more.\n",
    "\n",
    "7. Ad Hoc Queries: MongoDB allows developers to perform ad hoc queries without the need to define views or stored procedures. This makes it easier for developers to get started with MongoDB and prototype applications quickly.\n",
    "\n",
    "8. Robust Ecosystem: MongoDB has a robust ecosystem of tools and libraries, including drivers for multiple programming languages, to make it easier for developers to work with the database.\n",
    "\n",
    "In summary, MongoDB is a flexible and scalable NoSQL database management system that offers a range of features to help developers manage and process unstructured and semi-structured data efficiently."
   ]
  },
  {
   "cell_type": "code",
   "execution_count": null,
   "id": "755b7afe-b4ed-4c2c-96ef-b33ab78cd472",
   "metadata": {},
   "outputs": [],
   "source": [
    "Q3. Write a code to connect MongoDB to Python. Also, create a database and a collection in MongoDB."
   ]
  },
  {
   "cell_type": "code",
   "execution_count": null,
   "id": "d116ab76-414c-466c-bd97-971a0594a93e",
   "metadata": {},
   "outputs": [],
   "source": [
    "To connect to MongoDB in Python, we can use the PyMongo library. Here is an example code:\n",
    "\n",
    "```\n",
    "# Importing required libraries\n",
    "import pymongo \n",
    "\n",
    "# Creating a client object to connect to MongoDB\n",
    "client = pymongo.MongoClient(\"mongodb://localhost:27017/\")\n",
    "\n",
    "# Creating a database called \"mydatabase\"\n",
    "mydb = client[\"mydatabase\"]\n",
    "\n",
    "# Creating a collection called \"customers\" within the database\n",
    "mycol = mydb[\"customers\"]\n",
    "```\n",
    "\n",
    "In the above code, we first import the PyMongo library. Then, we create a client object using the `MongoClient()` method and passing the server URL as a parameter.\n",
    "\n",
    "We then create a database named \"mydatabase\" using the `client` object and the square bracket notation. Finally, we create a collection named \"customers\" within the \"mydatabase\" database using the `mydb` object and the square bracket notation.\n",
    "\n",
    "We can further perform CRUD (Create, Read, Update, Delete) operations on this collection using PyMongo library commands."
   ]
  },
  {
   "cell_type": "code",
   "execution_count": null,
   "id": "94acd9ad-712a-4c50-ac8b-93b0cbece37a",
   "metadata": {},
   "outputs": [],
   "source": [
    "Q4. Using the database and the collection created in question number 3, write a code to insert one record,\n",
    "and insert many records. Use the find() and find_one() methods to print the inserted record."
   ]
  },
  {
   "cell_type": "code",
   "execution_count": null,
   "id": "70f75911-0d12-48b3-9029-5d222b2f2bba",
   "metadata": {},
   "outputs": [],
   "source": [
    "To insert one record into the \"customers\" collection, we can use the `insert_one()` method. Here is an example code:\n",
    "\n",
    "```\n",
    "# Inserting one record into customers collection\n",
    "customer = {\"name\": \"John\", \"address\": \"Highway 37\"}\n",
    "x = mycol.insert_one(customer)\n",
    "\n",
    "# Printing the inserted record\n",
    "print(mycol.find_one())\n",
    "```\n",
    "\n",
    "In the above code, we create a dictionary `customer` with the data we want to insert. We then use the `insert_one()` method with the `mycol` object to insert the data into the \"customers\" collection. The `insert_one()` method returns an object that contains the ID of the inserted record.\n",
    "\n",
    "To print the inserted record, we use the `find_one()` method with the `mycol` object. This method returns the first document in the collection, which in this case will be the inserted record.\n",
    "\n",
    "To insert multiple records into the collection, we can use the `insert_many()` method. Here is an example code:\n",
    "\n",
    "```\n",
    "# Inserting multiple records into customers collection\n",
    "customers = [\n",
    "  {\"name\": \"Amy\", \"address\": \"Apple st 652\"},\n",
    "  {\"name\": \"Hannah\", \"address\": \"Mountain 21\"},\n",
    "  {\"name\": \"Michael\", \"address\": \"Valley 345\"},\n",
    "  {\"name\": \"Sandy\", \"address\": \"Ocean blvd 2\"},\n",
    "]\n",
    "\n",
    "x = mycol.insert_many(customers)\n",
    "\n",
    "# Printing all documents in customers collection\n",
    "for document in mycol.find():\n",
    "    print(document)\n",
    "```\n",
    "\n",
    "In the above code, we create a list of dictionaries `customers` with the data we want to insert. We then use the `insert_many()` method with the `mycol` object to insert all the data into the \"customers\" collection. The `insert_many()` method returns an object that contains the IDs of the inserted documents.\n",
    "\n",
    "To print all the inserted records, we use a `for` loop with the `find()` method. The `find()` method returns a cursor object that we iterate over. Within the loop, we print each document."
   ]
  },
  {
   "cell_type": "code",
   "execution_count": null,
   "id": "ae4a07c7-e7f8-4f5c-b835-f73ab2645085",
   "metadata": {},
   "outputs": [],
   "source": [
    "Q5. Explain how you can use the find() method to query the MongoDB database. Write a simple code to\n",
    "demonstrate this."
   ]
  },
  {
   "cell_type": "code",
   "execution_count": null,
   "id": "b7270cb4-3477-4df3-9474-17b28a5f2216",
   "metadata": {},
   "outputs": [],
   "source": [
    "The `find()` method is used to query the MongoDB database to retrieve data. In its simplest form, the `find()` method takes no parameters and retrieves all documents in the collection:\n",
    "\n",
    "```\n",
    "# Retrieving all documents in the collection\n",
    "for document in mycol.find():\n",
    "    print(document)\n",
    "```\n",
    "\n",
    "However, we can also pass in parameters to the `find()` method to retrieve only specific documents that match our query. Here are some examples:\n",
    "\n",
    "1. To retrieve documents where a specific field equals a certain value:\n",
    "\n",
    "```\n",
    "# Retrieving documents where the \"name\" field is \"John\"\n",
    "for document in mycol.find({\"name\": \"John\"}):\n",
    "    print(document)\n",
    "```\n",
    "\n",
    "2. To retrieve documents where a specific field is greater than or equal to a certain value:\n",
    "\n",
    "```\n",
    "# Retrieving documents where the \"age\" field is greater than or equal to 25\n",
    "for document in mycol.find({\"age\": {\"$gte\": 25}}):\n",
    "    print(document)\n",
    "```\n",
    "\n",
    "3. To retrieve documents where a specific field matches a regular expression:\n",
    "\n",
    "```\n",
    "# Retrieving documents where the \"name\" field starts with the letter \"A\"\n",
    "for document in mycol.find({\"name\": {\"$regex\": \"^A\"}}):\n",
    "    print(document)\n",
    "```\n",
    "\n",
    "In these examples, we pass in a dictionary as a parameter to the `find()` method. This dictionary contains the query parameters we want to use. We can use a wide range of operators within this dictionary, such as `$gte` (greater than or equal to), `$lt` (less than), and `$regex` (regular expression match).\n",
    "\n",
    "Overall, the `find()` method is a powerful tool for querying the MongoDB database to retrieve specific data sets."
   ]
  },
  {
   "cell_type": "code",
   "execution_count": null,
   "id": "70671529-3593-4408-bcb7-3e191daa2864",
   "metadata": {},
   "outputs": [],
   "source": [
    "Q6. Explain the sort() method. Give an example to demonstrate sorting in MongoDB."
   ]
  },
  {
   "cell_type": "code",
   "execution_count": null,
   "id": "fe4c1850-4ad7-416a-af92-42cec9c13ec7",
   "metadata": {},
   "outputs": [],
   "source": []
  },
  {
   "cell_type": "code",
   "execution_count": null,
   "id": "3132f5fa-670e-4418-9db7-089a5bc54e7f",
   "metadata": {},
   "outputs": [],
   "source": []
  },
  {
   "cell_type": "code",
   "execution_count": null,
   "id": "5907b9f8-9127-4cf9-9f03-ebfb28388097",
   "metadata": {},
   "outputs": [],
   "source": []
  }
 ],
 "metadata": {
  "kernelspec": {
   "display_name": "Python 3 (ipykernel)",
   "language": "python",
   "name": "python3"
  },
  "language_info": {
   "codemirror_mode": {
    "name": "ipython",
    "version": 3
   },
   "file_extension": ".py",
   "mimetype": "text/x-python",
   "name": "python",
   "nbconvert_exporter": "python",
   "pygments_lexer": "ipython3",
   "version": "3.10.8"
  }
 },
 "nbformat": 4,
 "nbformat_minor": 5
}
